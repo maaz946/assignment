{
 "cells": [
  {
   "cell_type": "markdown",
   "id": "e20e1a2f",
   "metadata": {},
   "source": [
    "# ASSIGNMENT # 3"
   ]
  },
  {
   "cell_type": "code",
   "execution_count": 1,
   "id": "202ff390",
   "metadata": {},
   "outputs": [
    {
     "name": "stdout",
     "output_type": "stream",
     "text": [
      "Twinkle, twinkle, little star,\n",
      "            How I wonder what you are!\n",
      "                     Up above the world so high,\n",
      "                     Like a diamond in the sky.\n",
      "Twinkle, twinkle, little star,\n",
      "            How I wonder what you are\n"
     ]
    }
   ],
   "source": [
    "#Q1\n",
    "#Write a Python program to print the following string in a specific format\n",
    "print('''Twinkle, twinkle, little star,\n",
    "            How I wonder what you are!\n",
    "                     Up above the world so high,\n",
    "                     Like a diamond in the sky.\n",
    "Twinkle, twinkle, little star,\n",
    "            How I wonder what you are''')"
   ]
  },
  {
   "cell_type": "code",
   "execution_count": 4,
   "id": "71176dfe",
   "metadata": {},
   "outputs": [
    {
     "name": "stdout",
     "output_type": "stream",
     "text": [
      "3.8.8\n"
     ]
    }
   ],
   "source": [
    "#Q2\n",
    "#Write a Python program to get the Python version you are using\n",
    "\n",
    "from platform import python_version\n",
    "print(python_version())"
   ]
  },
  {
   "cell_type": "code",
   "execution_count": 10,
   "id": "a0c12667",
   "metadata": {},
   "outputs": [
    {
     "name": "stdout",
     "output_type": "stream",
     "text": [
      "09:30:32\n",
      "Today's date: 2021-10-23\n"
     ]
    }
   ],
   "source": [
    "#Q3\n",
    "#Write a Python program to display the current date and time.\n",
    "from datetime import date\n",
    "import time\n",
    "today = date.today()\n",
    "print (time.strftime(\"%H:%M:%S\"))\n",
    "print(\"Today's date:\", today)"
   ]
  },
  {
   "cell_type": "code",
   "execution_count": 18,
   "id": "914cbb5c",
   "metadata": {},
   "outputs": [
    {
     "name": "stdout",
     "output_type": "stream",
     "text": [
      "Enter radius 3\n",
      "28.285714285714285\n"
     ]
    }
   ],
   "source": [
    "#Q4\n",
    "#Write a Python program which accepts the radius of a circle from the user and computethe area.\n",
    "radius=float(input(\"Enter radius \"))\n",
    "Area=(22/7)*radius**2\n",
    "print(Area)"
   ]
  },
  {
   "cell_type": "code",
   "execution_count": 17,
   "id": "71154a81",
   "metadata": {},
   "outputs": [
    {
     "name": "stdout",
     "output_type": "stream",
     "text": [
      "enter first namemaaz\n",
      "enter last namewarsi\n",
      "maaz warsi\n",
      "israw zaam\n"
     ]
    }
   ],
   "source": [
    "#Q5\n",
    "# Write a Python program which accepts the user's first and last name and print them in\n",
    "#  reverse order with a space between them.\n",
    "firstname=input(\"enter first name: \")\n",
    "lastname=input(\"enter last name: \")\n",
    "fullnme=firstname +\" \"+lastname\n",
    "print(fullnme)\n",
    "reverse=fullnme[::-1]\n",
    "print(reverse)"
   ]
  },
  {
   "cell_type": "code",
   "execution_count": 20,
   "id": "96c6ab98",
   "metadata": {},
   "outputs": [
    {
     "name": "stdout",
     "output_type": "stream",
     "text": [
      "enter first name: maaz\n",
      "enter last name: warsi\n",
      "maaz warsi\n"
     ]
    }
   ],
   "source": [
    "#6\n",
    "# Write a python program which takes two inputs from user and print them addition\n",
    "firstname=input(\"enter first name: \")\n",
    "lastname=input(\"enter last name: \")\n",
    "print(firstname +\" \"+lastname)\n"
   ]
  },
  {
   "cell_type": "code",
   "execution_count": 1,
   "id": "860f0f95",
   "metadata": {},
   "outputs": [
    {
     "name": "stdout",
     "output_type": "stream",
     "text": [
      "Enter subject: MATH\n",
      "Enter obtained Marks: 99\n",
      "0 MATH  total marks 100  your obtained is  99 A-one\n",
      "\n",
      "Enter subject: URDU\n",
      "Enter obtained Marks: 88\n",
      "1 URDU  total marks 100  your obtained is  88 A-one\n",
      "\n",
      "Enter subject: ENGLISH\n",
      "Enter obtained Marks: 77\n",
      "2 ENGLISH  total marks 100  your obtained is  77 Grade A\n",
      "\n",
      "Enter subject: SCIENCE\n",
      "Enter obtained Marks: 66\n",
      "3 SCIENCE  total marks 100  your obtained is  66 Grade B\n",
      "\n",
      "Enter subject: SST\n",
      "Enter obtained Marks: 55\n",
      "4 SST  total marks 100  your obtained is  55 Grade C\n",
      "\n"
     ]
    }
   ],
   "source": [
    "#Q7\n",
    "'''Write a program which takes 5 inputs from user for different subject’s marks, total it\n",
    "and generate mark sheet using grades ?'''\n",
    "TotalMarks=100\n",
    "i=1\n",
    "for i in range(5):\n",
    "    subject=input(\"Enter subject: \")\n",
    "    #TotalMarks=int(input(\"Enter Total Marks: \"))\n",
    "    ObtainedMarks=int(input(\"Enter obtained Marks: \"))\n",
    "    if ObtainedMarks>80 and ObtainedMarks<100:\n",
    "        print(i, subject,\" total marks\",TotalMarks,\" your obtained is \",ObtainedMarks, \"A-one\")\n",
    "    elif ObtainedMarks<80 and ObtainedMarks>70:\n",
    "        print(i, subject,\" total marks\",TotalMarks,\" your obtained is \",ObtainedMarks, \"Grade A\")\n",
    "    elif ObtainedMarks<70 and ObtainedMarks>60:\n",
    "        print(i, subject,\" total marks\",TotalMarks,\" your obtained is \",ObtainedMarks, \"Grade B\")\n",
    "    elif ObtainedMarks<60 and ObtainedMarks>50:\n",
    "        print(i, subject,\" total marks\",TotalMarks,\" your obtained is \",ObtainedMarks, \"Grade C\")\n",
    "    elif ObtainedMarks<50 and ObtainedMarks>40:\n",
    "        print(i, subject,\" total marks\",TotalMarks,\" your obtained is \",ObtainedMarks, \"Grade D\")\n",
    "    else:\n",
    "        print(\"Fail or write wrong percentage\")\n",
    "    print()"
   ]
  },
  {
   "cell_type": "code",
   "execution_count": 9,
   "id": "fa3c5752",
   "metadata": {},
   "outputs": [
    {
     "data": {
      "text/plain": [
       "2"
      ]
     },
     "execution_count": 9,
     "metadata": {},
     "output_type": "execute_result"
    }
   ],
   "source": [
    "len(subject)"
   ]
  },
  {
   "cell_type": "code",
   "execution_count": 11,
   "id": "aeba388e",
   "metadata": {},
   "outputs": [
    {
     "name": "stdout",
     "output_type": "stream",
     "text": [
      "Enter number: 88888888\n",
      "number is even:  88888888\n"
     ]
    }
   ],
   "source": [
    "#Q8\n",
    "#Write a program which take input from user and identify that the given number is evenor odd?\n",
    "number=int(input(\"Enter number: \"))\n",
    "if number%2==0:\n",
    "    print(\"number is even: \",number)\n",
    "else:\n",
    "    print(\"number is odd: \",number)"
   ]
  },
  {
   "cell_type": "code",
   "execution_count": 12,
   "id": "f9ecc108",
   "metadata": {},
   "outputs": [
    {
     "name": "stdout",
     "output_type": "stream",
     "text": [
      "7\n"
     ]
    }
   ],
   "source": [
    "#Q9\n",
    "#Write a program which print the length of the list?\n",
    "l=[1,2,3,4,5,6,7]\n",
    "print(len(l))"
   ]
  },
  {
   "cell_type": "code",
   "execution_count": 13,
   "id": "bc30bba9",
   "metadata": {},
   "outputs": [
    {
     "name": "stdout",
     "output_type": "stream",
     "text": [
      "28\n"
     ]
    }
   ],
   "source": [
    "#Q10\n",
    "#Write a Python program to sum all the numeric items in a list?\n",
    "l=[1,2,3,4,5,6,7]\n",
    "print(sum(l))"
   ]
  },
  {
   "cell_type": "code",
   "execution_count": 15,
   "id": "57ce3232",
   "metadata": {},
   "outputs": [
    {
     "name": "stdout",
     "output_type": "stream",
     "text": [
      "7\n"
     ]
    }
   ],
   "source": [
    "#Q11\n",
    "# Write a Python program to get the largest number from a numeric list.\n",
    "l=[1,2,3,4,5,6,7]\n",
    "largestnumber=max(l)\n",
    "print(largestnumber)"
   ]
  },
  {
   "cell_type": "code",
   "execution_count": 18,
   "id": "d61f91d2",
   "metadata": {},
   "outputs": [
    {
     "name": "stdout",
     "output_type": "stream",
     "text": [
      "1 1 2 3 "
     ]
    }
   ],
   "source": [
    "#Q12\n",
    "# Write a program that prints out all the elements of the list that are less than 5.\n",
    "a = [1, 1, 2, 3, 5, 8, 13, 21, 34, 55, 89]\n",
    "for i in a:\n",
    "    if i<5:\n",
    "        print(i,end=\" \")"
   ]
  },
  {
   "cell_type": "code",
   "execution_count": null,
   "id": "ac2ab1f8",
   "metadata": {},
   "outputs": [],
   "source": []
  }
 ],
 "metadata": {
  "kernelspec": {
   "display_name": "Python 3",
   "language": "python",
   "name": "python3"
  },
  "language_info": {
   "codemirror_mode": {
    "name": "ipython",
    "version": 3
   },
   "file_extension": ".py",
   "mimetype": "text/x-python",
   "name": "python",
   "nbconvert_exporter": "python",
   "pygments_lexer": "ipython3",
   "version": "3.8.8"
  }
 },
 "nbformat": 4,
 "nbformat_minor": 5
}
